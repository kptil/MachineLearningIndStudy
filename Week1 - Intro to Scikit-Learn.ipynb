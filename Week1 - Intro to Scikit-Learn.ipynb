{
 "cells": [
  {
   "cell_type": "markdown",
   "id": "da365531",
   "metadata": {},
   "source": [
    "# Intro to Scikit-Learn"
   ]
  },
  {
   "cell_type": "markdown",
   "id": "cc2030b7",
   "metadata": {},
   "source": [
    "Scikit-Learn is a Python library providing implementations of machine learning algorithms. The machine learning models are stored in Python classes. When we instantiate them, we pass in hyperparameters that define how the model should run. Then we fit the model to our training data using fit(). We can use the trained model to predict the output for new data with predict()."
   ]
  },
  {
   "cell_type": "code",
   "execution_count": 71,
   "id": "f3ca4602",
   "metadata": {},
   "outputs": [],
   "source": [
    "from sklearn.linear_model import LinearRegression\n",
    "import matplotlib.pyplot as plt\n",
    "import numpy as np"
   ]
  },
  {
   "cell_type": "markdown",
   "id": "58fd5d20",
   "metadata": {},
   "source": [
    "## Regression Example"
   ]
  },
  {
   "cell_type": "markdown",
   "id": "0ee42747",
   "metadata": {},
   "source": [
    "Create some dummy data - y values will roughly follow y = 2x - 1 line with some random noise built in."
   ]
  },
  {
   "cell_type": "code",
   "execution_count": 72,
   "id": "e35d63e9",
   "metadata": {},
   "outputs": [
    {
     "data": {
      "image/png": "[encoded data removed]",
      "text/plain": [
       "<Figure size 432x288 with 1 Axes>"
      ]
     },
     "metadata": {
      "needs_background": "light"
     },
     "output_type": "display_data"
    }
   ],
   "source": [
    "rng = np.random.RandomState(42)\n",
    "x = 10 * rng.rand(50)\n",
    "y = 2 * x - 1 + rng.randn(50)\n",
    "plt.scatter(x, y);"
   ]
  },
  {
   "cell_type": "markdown",
   "id": "c29f1d36",
   "metadata": {},
   "source": [
    "Choose the model and set hyperparameters. We'll dig into what these are in the future."
   ]
  },
  {
   "cell_type": "code",
   "execution_count": 73,
   "id": "61f27c8c",
   "metadata": {},
   "outputs": [],
   "source": [
    "model = LinearRegression(fit_intercept=True)"
   ]
  },
  {
   "cell_type": "markdown",
   "id": "bc41b319",
   "metadata": {},
   "source": [
    "Scikit requires that the features matrix be a 2D array, so we need to reshape x. y is the target vector."
   ]
  },
  {
   "cell_type": "code",
   "execution_count": 74,
   "id": "0cea7fd2",
   "metadata": {},
   "outputs": [],
   "source": [
    "X = x[:, np.newaxis]"
   ]
  },
  {
   "cell_type": "markdown",
   "id": "7e98cb1f",
   "metadata": {},
   "source": [
    "Now we can fit the model to our data and view the results. Note that all model parameters learned during fitting having trailing underscores."
   ]
  },
  {
   "cell_type": "code",
   "execution_count": 75,
   "id": "6d1d0cd1",
   "metadata": {},
   "outputs": [
    {
     "data": {
      "text/plain": [
       "array([1.9776566])"
      ]
     },
     "execution_count": 75,
     "metadata": {},
     "output_type": "execute_result"
    }
   ],
   "source": [
    "model.fit(X, y)\n",
    "model.coef_"
   ]
  },
  {
   "cell_type": "code",
   "execution_count": 76,
   "id": "5ce13e0b",
   "metadata": {},
   "outputs": [
    {
     "data": {
      "text/plain": [
       "-0.9033107255311164"
      ]
     },
     "execution_count": 76,
     "metadata": {},
     "output_type": "execute_result"
    }
   ],
   "source": [
    "model.intercept_"
   ]
  },
  {
   "cell_type": "markdown",
   "id": "a92242b4",
   "metadata": {},
   "source": [
    "## Classification Example"
   ]
  },
  {
   "cell_type": "markdown",
   "id": "e2403545",
   "metadata": {},
   "source": [
    "We'll use the Iris data set and a Gaussian naive Bayes model, which will be discussed in detail later. We'll a scikit-learn utility function to help us split the data into a training and a test set. You can get the iris dataset in many ways, but seaborn is used to make data manipulation easier."
   ]
  },
  {
   "cell_type": "code",
   "execution_count": 77,
   "id": "20edb7f3",
   "metadata": {},
   "outputs": [
    {
     "data": {
      "text/html": [
       "<div>\n",
       "<style scoped>\n",
       "    .dataframe tbody tr th:only-of-type {\n",
       "        vertical-align: middle;\n",
       "    }\n",
       "\n",
       "    .dataframe tbody tr th {\n",
       "        vertical-align: top;\n",
       "    }\n",
       "\n",
       "    .dataframe thead th {\n",
       "        text-align: right;\n",
       "    }\n",
       "</style>\n",
       "<table border=\"1\" class=\"dataframe\">\n",
       "  <thead>\n",
       "    <tr style=\"text-align: right;\">\n",
       "      <th></th>\n",
       "      <th>sepal_length</th>\n",
       "      <th>sepal_width</th>\n",
       "      <th>petal_length</th>\n",
       "      <th>petal_width</th>\n",
       "      <th>species</th>\n",
       "    </tr>\n",
       "  </thead>\n",
       "  <tbody>\n",
       "    <tr>\n",
       "      <th>0</th>\n",
       "      <td>5.1</td>\n",
       "      <td>3.5</td>\n",
       "      <td>1.4</td>\n",
       "      <td>0.2</td>\n",
       "      <td>setosa</td>\n",
       "    </tr>\n",
       "    <tr>\n",
       "      <th>1</th>\n",
       "      <td>4.9</td>\n",
       "      <td>3.0</td>\n",
       "      <td>1.4</td>\n",
       "      <td>0.2</td>\n",
       "      <td>setosa</td>\n",
       "    </tr>\n",
       "    <tr>\n",
       "      <th>2</th>\n",
       "      <td>4.7</td>\n",
       "      <td>3.2</td>\n",
       "      <td>1.3</td>\n",
       "      <td>0.2</td>\n",
       "      <td>setosa</td>\n",
       "    </tr>\n",
       "    <tr>\n",
       "      <th>3</th>\n",
       "      <td>4.6</td>\n",
       "      <td>3.1</td>\n",
       "      <td>1.5</td>\n",
       "      <td>0.2</td>\n",
       "      <td>setosa</td>\n",
       "    </tr>\n",
       "    <tr>\n",
       "      <th>4</th>\n",
       "      <td>5.0</td>\n",
       "      <td>3.6</td>\n",
       "      <td>1.4</td>\n",
       "      <td>0.2</td>\n",
       "      <td>setosa</td>\n",
       "    </tr>\n",
       "  </tbody>\n",
       "</table>\n",
       "</div>"
      ],
      "text/plain": [
       "   sepal_length  sepal_width  petal_length  petal_width species\n",
       "0           5.1          3.5           1.4          0.2  setosa\n",
       "1           4.9          3.0           1.4          0.2  setosa\n",
       "2           4.7          3.2           1.3          0.2  setosa\n",
       "3           4.6          3.1           1.5          0.2  setosa\n",
       "4           5.0          3.6           1.4          0.2  setosa"
      ]
     },
     "execution_count": 77,
     "metadata": {},
     "output_type": "execute_result"
    }
   ],
   "source": [
    "import seaborn as sns\n",
    "iris = sns.load_dataset('iris')\n",
    "iris.head()"
   ]
  },
  {
   "cell_type": "markdown",
   "id": "4644856c",
   "metadata": {},
   "source": [
    "The petal and sepal measurements are the features, and the species column is the target vector. We need to separate these into different variables before generating train and test sets."
   ]
  },
  {
   "cell_type": "code",
   "execution_count": 78,
   "id": "1736a6f6",
   "metadata": {},
   "outputs": [],
   "source": [
    "X_iris = iris.drop('species', axis=1)\n",
    "y_iris = iris['species']"
   ]
  },
  {
   "cell_type": "markdown",
   "id": "3120b1b7",
   "metadata": {},
   "source": [
    "The train_test_split function randomly assigns rows to the train and test sets. Passing an integer to the random_state parameter makes the random assignment repeatable. It has a couple other parameters to control how the data is shuffled and split."
   ]
  },
  {
   "cell_type": "code",
   "execution_count": 79,
   "id": "825b77c3",
   "metadata": {},
   "outputs": [],
   "source": [
    "from sklearn.model_selection import train_test_split\n",
    "Xtrain, Xtest, ytrain, ytest = train_test_split(X_iris, y_iris, random_state=1)"
   ]
  },
  {
   "cell_type": "markdown",
   "id": "bb2da2fd",
   "metadata": {},
   "source": [
    "Now we follow the same process: Choose the model, instantiate with appropriate hyperparameters, train it on the train dataset, and then test it's ability to correctly predict output on the test dataset."
   ]
  },
  {
   "cell_type": "code",
   "execution_count": 80,
   "id": "fdef4e9b",
   "metadata": {},
   "outputs": [],
   "source": [
    "from sklearn.naive_bayes import GaussianNB \n",
    "model = GaussianNB()                       \n",
    "model.fit(Xtrain, ytrain)     \n",
    "y_model = model.predict(Xtest) "
   ]
  },
  {
   "cell_type": "markdown",
   "id": "868b8ee3",
   "metadata": {},
   "source": [
    "Scikit-Learn has another utility function to help us compare the model's output for the test dataset with the actual data."
   ]
  },
  {
   "cell_type": "code",
   "execution_count": 81,
   "id": "5da851e9",
   "metadata": {},
   "outputs": [
    {
     "data": {
      "text/plain": [
       "0.9736842105263158"
      ]
     },
     "execution_count": 81,
     "metadata": {},
     "output_type": "execute_result"
    }
   ],
   "source": [
    "from sklearn.metrics import accuracy_score\n",
    "accuracy_score(ytest, y_model)"
   ]
  }
 ],
 "metadata": {
  "kernelspec": {
   "display_name": "Python 3",
   "language": "python",
   "name": "python3"
  },
  "language_info": {
   "codemirror_mode": {
    "name": "ipython",
    "version": 3
   },
   "file_extension": ".py",
   "mimetype": "text/x-python",
   "name": "python",
   "nbconvert_exporter": "python",
   "pygments_lexer": "ipython3",
   "version": "3.8.8"
  }
 },
 "nbformat": 4,
 "nbformat_minor": 5
}
